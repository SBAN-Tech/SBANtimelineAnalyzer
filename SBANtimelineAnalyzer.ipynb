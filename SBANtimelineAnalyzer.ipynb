{
  "nbformat": 4,
  "nbformat_minor": 0,
  "metadata": {
    "colab": {
      "provenance": []
    },
    "kernelspec": {
      "name": "python3",
      "display_name": "Python 3"
    },
    "language_info": {
      "name": "python"
    }
  },
  "cells": [
    {
      "cell_type": "code",
      "source": [
        "!cd /content\n",
        "!dir"
      ],
      "metadata": {
        "colab": {
          "base_uri": "https://localhost:8080/"
        },
        "id": "-1ooGdPaur2f",
        "outputId": "a5dd7ce5-e81a-4fee-f966-37a2286129b5"
      },
      "execution_count": 5,
      "outputs": [
        {
          "output_type": "stream",
          "name": "stdout",
          "text": [
            "sample_data  すべあな界隈年表\\ -\\ 2018年.csv\n"
          ]
        }
      ]
    },
    {
      "cell_type": "code",
      "source": [
        "import csv\n",
        "import pandas as pd\n",
        "\n",
        "df = pd.DataFrame()\n",
        "for year in range(2018, 2025) :\n",
        "  df_tmp = pd.read_csv(f'すべあな界隈年表 - {year}年.csv', index_col = False)\n",
        "  column_filter = ['日付', '曲名/出来事', '作者', 'カテゴリ', 'モチーフ', '解読日']\n",
        "  df_tmp = df_tmp[column_filter]\n",
        "  column_filter.append('プ') if 'プ' in df_tmp.columns else column_filter\n",
        "  df_tmp['日付'].fillna(method='ffill', inplace=True)\n",
        "  df_tmp['日付'] = pd.to_datetime(df_tmp['日付'], format='%m/%d', errors='coerce')\n",
        "  df_tmp['日付'] = df_tmp['日付'].apply(lambda x: x.replace(year=year) if pd.notnull(x) else x)\n",
        "  df = pd.concat([df, df_tmp], axis=0)\n",
        "df = df[df['カテゴリ'] != '出来事']\n",
        "df.rename(columns={'曲名/出来事': '曲名'}, inplace=True)\n",
        "print(df.info())\n",
        "print(df.head())"
      ],
      "metadata": {
        "colab": {
          "base_uri": "https://localhost:8080/"
        },
        "id": "iD_H90_1u2qA",
        "outputId": "8e0bf90a-c376-486c-b6ef-013e96487566"
      },
      "execution_count": 31,
      "outputs": [
        {
          "output_type": "stream",
          "name": "stdout",
          "text": [
            "<class 'pandas.core.frame.DataFrame'>\n",
            "Int64Index: 2939 entries, 0 to 1\n",
            "Data columns (total 6 columns):\n",
            " #   Column  Non-Null Count  Dtype         \n",
            "---  ------  --------------  -----         \n",
            " 0   日付      2937 non-null   datetime64[ns]\n",
            " 1   曲名      2927 non-null   object        \n",
            " 2   作者      2935 non-null   object        \n",
            " 3   カテゴリ    2933 non-null   object        \n",
            " 4   モチーフ    2075 non-null   object        \n",
            " 5   解読日     797 non-null    object        \n",
            "dtypes: datetime64[ns](1), object(5)\n",
            "memory usage: 160.7+ KB\n",
            "None\n",
            "          日付            曲名           作者  カテゴリ              モチーフ    解読日\n",
            "0 2018-05-10      .[short]  全てあなたの所為です。     曲         .[short]枠  解読日不明\n",
            "1 2018-08-29     ..[short]  全てあなたの所為です。     曲        ..[short]枠  解読日不明\n",
            "2 2018-09-10   全て███の所為です。       idea_0  アレンジ  →イワシがつちからはえてくるんだ    NaN\n",
            "3 2018-09-11  DSC_0001.AVI  全てあなたの所為です。    予告     DSC_0001.AVI枠  解読日不明\n",
            "4 2018-09-11             ◘  全てあなたの所為です。    予告              逆再生枠  解読日不明\n"
          ]
        }
      ]
    }
  ]
}